{
  "nbformat": 4,
  "nbformat_minor": 0,
  "metadata": {
    "colab": {
      "provenance": [],
      "authorship_tag": "ABX9TyMNnL+deOv5xgQMX+EuhW78",
      "include_colab_link": true
    },
    "kernelspec": {
      "name": "ir",
      "display_name": "R"
    },
    "language_info": {
      "name": "R"
    }
  },
  "cells": [
    {
      "cell_type": "markdown",
      "metadata": {
        "id": "view-in-github",
        "colab_type": "text"
      },
      "source": [
        "<a href=\"https://colab.research.google.com/github/ramonferrari/mpgc_ti/blob/main/DAV_S2023_C%C3%B3digos_Pr%C3%A9_Projeto.ipynb\" target=\"_parent\"><img src=\"https://colab.research.google.com/assets/colab-badge.svg\" alt=\"Open In Colab\"/></a>"
      ]
    },
    {
      "cell_type": "markdown",
      "source": [
        "# Data Analysis & Visualization\n",
        "## Professores Eduardo Francisco e Plínio Júnior\n",
        "#### Grupo:\n",
        "1. Felipe Nunes Barroso\n",
        "2. Lucas Felipe Ballesteros Martins\n",
        "3. Ramon Moreno Ferrari\n",
        "4. Vagner Almeida Lima\n",
        "\n",
        "\n"
      ],
      "metadata": {
        "id": "qmkpCSpsmjRu"
      }
    },
    {
      "cell_type": "markdown",
      "source": [
        "### Preparação: instala e carrega pacotes necessários"
      ],
      "metadata": {
        "id": "ooZpMKY1pi7w"
      }
    },
    {
      "cell_type": "code",
      "source": [
        "install.packages(\"ggplot2\")\n",
        "install.packages(\"dplyr\")\n",
        "install.packages(\"showtext\")\n",
        "install.packages(\"reshape\")"
      ],
      "metadata": {
        "colab": {
          "base_uri": "https://localhost:8080/"
        },
        "id": "kbRrrZbXmamA",
        "outputId": "2ea2170b-e633-4243-d917-8c9f484842be"
      },
      "execution_count": 1,
      "outputs": [
        {
          "output_type": "stream",
          "name": "stderr",
          "text": [
            "Installing package into ‘/usr/local/lib/R/site-library’\n",
            "(as ‘lib’ is unspecified)\n",
            "\n",
            "Installing package into ‘/usr/local/lib/R/site-library’\n",
            "(as ‘lib’ is unspecified)\n",
            "\n",
            "Installing package into ‘/usr/local/lib/R/site-library’\n",
            "(as ‘lib’ is unspecified)\n",
            "\n",
            "Installing package into ‘/usr/local/lib/R/site-library’\n",
            "(as ‘lib’ is unspecified)\n",
            "\n"
          ]
        }
      ]
    },
    {
      "cell_type": "code",
      "execution_count": 2,
      "metadata": {
        "id": "ia12iH6fj5LX"
      },
      "outputs": [],
      "source": [
        "suppressWarnings(suppressMessages(library(ggplot2)))\n",
        "suppressWarnings(suppressMessages(library(showtext)))\n",
        "suppressWarnings(suppressMessages(library(dplyr)))\n",
        "suppressWarnings(suppressMessages(library(reshape)))"
      ]
    },
    {
      "cell_type": "code",
      "source": [
        "# Fonte bonita para gráficos\n",
        "font_add_google(\"Merriweather Sans\", \"merri\")"
      ],
      "metadata": {
        "id": "9mVD1Pqvs2Hv"
      },
      "execution_count": 3,
      "outputs": []
    },
    {
      "cell_type": "markdown",
      "source": [
        "## Exploração da base\n",
        "\n"
      ],
      "metadata": {
        "id": "izGuw13l_QlP"
      }
    },
    {
      "cell_type": "code",
      "source": [
        "# Endereço do arquivo na nuvem, para funcionar para todos os colegas, em qualquer computador\n",
        "url_dataset <- c(\"https://raw.githubusercontent.com/ramonferrari/mpgc_ti/main/sustainable_development_report_2023.csv\")\n",
        "# Leitura dos dados\n",
        "df <- read.table(url_dataset,header=TRUE,sep=\",\")"
      ],
      "metadata": {
        "id": "TtZSoFN9_WH8",
        "colab": {
          "base_uri": "https://localhost:8080/"
        },
        "outputId": "88a69b74-566b-4da4-ea1f-356f5f49f1d0"
      },
      "execution_count": 4,
      "outputs": [
        {
          "output_type": "stream",
          "name": "stderr",
          "text": [
            "Warning message in scan(file = file, what = what, sep = sep, quote = quote, dec = dec, :\n",
            "“EOF within quoted string”\n",
            "Warning message in scan(file = file, what = what, sep = sep, quote = quote, dec = dec, :\n",
            "“number of items read is not a multiple of the number of columns”\n"
          ]
        }
      ]
    },
    {
      "cell_type": "code",
      "source": [
        "df_round <- df %>% mutate(across(where(is.numeric), round, 2))"
      ],
      "metadata": {
        "colab": {
          "base_uri": "https://localhost:8080/"
        },
        "id": "Pl8QX3oH7n1b",
        "outputId": "2c0e10e7-36c0-4e6d-b041-05203b0627c4"
      },
      "execution_count": 5,
      "outputs": [
        {
          "output_type": "stream",
          "name": "stderr",
          "text": [
            "Warning message:\n",
            "“\u001b[1m\u001b[22mThere was 1 warning in `mutate()`.\n",
            "\u001b[1m\u001b[22m\u001b[36mℹ\u001b[39m In argument: `across(where(is.numeric), round, 2)`.\n",
            "Caused by warning:\n",
            "\u001b[1m\u001b[22m\u001b[33m!\u001b[39m The `...` argument of `across()` is deprecated as of dplyr 1.1.0.\n",
            "Supply arguments directly to `.fns` through an anonymous function instead.\n",
            "\n",
            "  # Previously\n",
            "  across(a:b, mean, na.rm = TRUE)\n",
            "\n",
            "  # Now\n",
            "  across(a:b, \\(x) mean(x, na.rm = TRUE))”\n"
          ]
        }
      ]
    },
    {
      "cell_type": "code",
      "source": [
        "head(df_round)"
      ],
      "metadata": {
        "colab": {
          "base_uri": "https://localhost:8080/",
          "height": 306
        },
        "id": "3o0GPK_F_7q4",
        "outputId": "b80d7079-eeac-4d55-b83e-3b4a0ec336e4"
      },
      "execution_count": 6,
      "outputs": [
        {
          "output_type": "display_data",
          "data": {
            "text/html": [
              "<table class=\"dataframe\">\n",
              "<caption>A data.frame: 6 × 21</caption>\n",
              "<thead>\n",
              "\t<tr><th></th><th scope=col>country_code</th><th scope=col>country</th><th scope=col>region</th><th scope=col>overall_score</th><th scope=col>goal_1_score</th><th scope=col>goal_2_score</th><th scope=col>goal_3_score</th><th scope=col>goal_4_score</th><th scope=col>goal_5_score</th><th scope=col>goal_6_score</th><th scope=col>⋯</th><th scope=col>goal_8_score</th><th scope=col>goal_9_score</th><th scope=col>goal_10_score</th><th scope=col>goal_11_score</th><th scope=col>goal_12_score</th><th scope=col>goal_13_score</th><th scope=col>goal_14_score</th><th scope=col>goal_15_score</th><th scope=col>goal_16_score</th><th scope=col>goal_17_score</th></tr>\n",
              "\t<tr><th></th><th scope=col>&lt;chr&gt;</th><th scope=col>&lt;chr&gt;</th><th scope=col>&lt;chr&gt;</th><th scope=col>&lt;dbl&gt;</th><th scope=col>&lt;dbl&gt;</th><th scope=col>&lt;dbl&gt;</th><th scope=col>&lt;dbl&gt;</th><th scope=col>&lt;dbl&gt;</th><th scope=col>&lt;dbl&gt;</th><th scope=col>&lt;dbl&gt;</th><th scope=col>⋯</th><th scope=col>&lt;dbl&gt;</th><th scope=col>&lt;dbl&gt;</th><th scope=col>&lt;dbl&gt;</th><th scope=col>&lt;dbl&gt;</th><th scope=col>&lt;dbl&gt;</th><th scope=col>&lt;dbl&gt;</th><th scope=col>&lt;dbl&gt;</th><th scope=col>&lt;dbl&gt;</th><th scope=col>&lt;dbl&gt;</th><th scope=col>&lt;dbl&gt;</th></tr>\n",
              "</thead>\n",
              "<tbody>\n",
              "\t<tr><th scope=row>1</th><td>FIN</td><td>Finland</td><td>OECD</td><td>86.76</td><td>99.58</td><td>60.89</td><td>95.39</td><td>97.17</td><td>92.11</td><td>94.33</td><td>⋯</td><td>86.79</td><td>96.00</td><td>98.47</td><td>91.23</td><td>60.06</td><td>68.79</td><td>87.93</td><td>85.07</td><td>92.52</td><td>75.60</td></tr>\n",
              "\t<tr><th scope=row>2</th><td>SWE</td><td>Sweden </td><td>OECD</td><td>85.98</td><td>98.89</td><td>63.07</td><td>96.90</td><td>99.76</td><td>91.44</td><td>95.06</td><td>⋯</td><td>84.97</td><td>97.59</td><td>94.97</td><td>90.39</td><td>56.83</td><td>70.03</td><td>69.35</td><td>80.19</td><td>88.51</td><td>85.77</td></tr>\n",
              "\t<tr><th scope=row>3</th><td>DNK</td><td>Denmark</td><td>OECD</td><td>85.68</td><td>99.22</td><td>71.03</td><td>95.40</td><td>99.34</td><td>87.00</td><td>90.73</td><td>⋯</td><td>87.56</td><td>96.98</td><td>98.16</td><td>93.04</td><td>44.57</td><td>60.78</td><td>76.30</td><td>92.79</td><td>93.84</td><td>82.15</td></tr>\n",
              "\t<tr><th scope=row>4</th><td>DEU</td><td>Germany</td><td>OECD</td><td>83.36</td><td>99.51</td><td>72.37</td><td>93.04</td><td>97.16</td><td>81.92</td><td>88.44</td><td>⋯</td><td>86.97</td><td>95.79</td><td>88.15</td><td>90.10</td><td>55.41</td><td>64.00</td><td>74.00</td><td>79.23</td><td>89.46</td><td>84.39</td></tr>\n",
              "\t<tr><th scope=row>5</th><td>AUT</td><td>Austria</td><td>OECD</td><td>82.28</td><td>99.45</td><td>73.07</td><td>92.47</td><td>97.91</td><td>84.58</td><td>92.16</td><td>⋯</td><td>83.27</td><td>96.98</td><td>94.63</td><td>92.47</td><td>49.62</td><td>57.33</td><td>   NA</td><td>73.58</td><td>87.91</td><td>71.13</td></tr>\n",
              "\t<tr><th scope=row>6</th><td>FRA</td><td>France </td><td>OECD</td><td>82.05</td><td>99.73</td><td>72.39</td><td>93.22</td><td>99.63</td><td>87.82</td><td>89.27</td><td>⋯</td><td>85.31</td><td>92.78</td><td>87.47</td><td>90.53</td><td>60.52</td><td>73.83</td><td>65.68</td><td>68.82</td><td>76.09</td><td>73.11</td></tr>\n",
              "</tbody>\n",
              "</table>\n"
            ],
            "text/markdown": "\nA data.frame: 6 × 21\n\n| <!--/--> | country_code &lt;chr&gt; | country &lt;chr&gt; | region &lt;chr&gt; | overall_score &lt;dbl&gt; | goal_1_score &lt;dbl&gt; | goal_2_score &lt;dbl&gt; | goal_3_score &lt;dbl&gt; | goal_4_score &lt;dbl&gt; | goal_5_score &lt;dbl&gt; | goal_6_score &lt;dbl&gt; | ⋯ ⋯ | goal_8_score &lt;dbl&gt; | goal_9_score &lt;dbl&gt; | goal_10_score &lt;dbl&gt; | goal_11_score &lt;dbl&gt; | goal_12_score &lt;dbl&gt; | goal_13_score &lt;dbl&gt; | goal_14_score &lt;dbl&gt; | goal_15_score &lt;dbl&gt; | goal_16_score &lt;dbl&gt; | goal_17_score &lt;dbl&gt; |\n|---|---|---|---|---|---|---|---|---|---|---|---|---|---|---|---|---|---|---|---|---|---|\n| 1 | FIN | Finland | OECD | 86.76 | 99.58 | 60.89 | 95.39 | 97.17 | 92.11 | 94.33 | ⋯ | 86.79 | 96.00 | 98.47 | 91.23 | 60.06 | 68.79 | 87.93 | 85.07 | 92.52 | 75.60 |\n| 2 | SWE | Sweden  | OECD | 85.98 | 98.89 | 63.07 | 96.90 | 99.76 | 91.44 | 95.06 | ⋯ | 84.97 | 97.59 | 94.97 | 90.39 | 56.83 | 70.03 | 69.35 | 80.19 | 88.51 | 85.77 |\n| 3 | DNK | Denmark | OECD | 85.68 | 99.22 | 71.03 | 95.40 | 99.34 | 87.00 | 90.73 | ⋯ | 87.56 | 96.98 | 98.16 | 93.04 | 44.57 | 60.78 | 76.30 | 92.79 | 93.84 | 82.15 |\n| 4 | DEU | Germany | OECD | 83.36 | 99.51 | 72.37 | 93.04 | 97.16 | 81.92 | 88.44 | ⋯ | 86.97 | 95.79 | 88.15 | 90.10 | 55.41 | 64.00 | 74.00 | 79.23 | 89.46 | 84.39 |\n| 5 | AUT | Austria | OECD | 82.28 | 99.45 | 73.07 | 92.47 | 97.91 | 84.58 | 92.16 | ⋯ | 83.27 | 96.98 | 94.63 | 92.47 | 49.62 | 57.33 |    NA | 73.58 | 87.91 | 71.13 |\n| 6 | FRA | France  | OECD | 82.05 | 99.73 | 72.39 | 93.22 | 99.63 | 87.82 | 89.27 | ⋯ | 85.31 | 92.78 | 87.47 | 90.53 | 60.52 | 73.83 | 65.68 | 68.82 | 76.09 | 73.11 |\n\n",
            "text/latex": "A data.frame: 6 × 21\n\\begin{tabular}{r|lllllllllllllllllllll}\n  & country\\_code & country & region & overall\\_score & goal\\_1\\_score & goal\\_2\\_score & goal\\_3\\_score & goal\\_4\\_score & goal\\_5\\_score & goal\\_6\\_score & ⋯ & goal\\_8\\_score & goal\\_9\\_score & goal\\_10\\_score & goal\\_11\\_score & goal\\_12\\_score & goal\\_13\\_score & goal\\_14\\_score & goal\\_15\\_score & goal\\_16\\_score & goal\\_17\\_score\\\\\n  & <chr> & <chr> & <chr> & <dbl> & <dbl> & <dbl> & <dbl> & <dbl> & <dbl> & <dbl> & ⋯ & <dbl> & <dbl> & <dbl> & <dbl> & <dbl> & <dbl> & <dbl> & <dbl> & <dbl> & <dbl>\\\\\n\\hline\n\t1 & FIN & Finland & OECD & 86.76 & 99.58 & 60.89 & 95.39 & 97.17 & 92.11 & 94.33 & ⋯ & 86.79 & 96.00 & 98.47 & 91.23 & 60.06 & 68.79 & 87.93 & 85.07 & 92.52 & 75.60\\\\\n\t2 & SWE & Sweden  & OECD & 85.98 & 98.89 & 63.07 & 96.90 & 99.76 & 91.44 & 95.06 & ⋯ & 84.97 & 97.59 & 94.97 & 90.39 & 56.83 & 70.03 & 69.35 & 80.19 & 88.51 & 85.77\\\\\n\t3 & DNK & Denmark & OECD & 85.68 & 99.22 & 71.03 & 95.40 & 99.34 & 87.00 & 90.73 & ⋯ & 87.56 & 96.98 & 98.16 & 93.04 & 44.57 & 60.78 & 76.30 & 92.79 & 93.84 & 82.15\\\\\n\t4 & DEU & Germany & OECD & 83.36 & 99.51 & 72.37 & 93.04 & 97.16 & 81.92 & 88.44 & ⋯ & 86.97 & 95.79 & 88.15 & 90.10 & 55.41 & 64.00 & 74.00 & 79.23 & 89.46 & 84.39\\\\\n\t5 & AUT & Austria & OECD & 82.28 & 99.45 & 73.07 & 92.47 & 97.91 & 84.58 & 92.16 & ⋯ & 83.27 & 96.98 & 94.63 & 92.47 & 49.62 & 57.33 &    NA & 73.58 & 87.91 & 71.13\\\\\n\t6 & FRA & France  & OECD & 82.05 & 99.73 & 72.39 & 93.22 & 99.63 & 87.82 & 89.27 & ⋯ & 85.31 & 92.78 & 87.47 & 90.53 & 60.52 & 73.83 & 65.68 & 68.82 & 76.09 & 73.11\\\\\n\\end{tabular}\n",
            "text/plain": [
              "  country_code country region overall_score goal_1_score goal_2_score\n",
              "1 FIN          Finland OECD   86.76         99.58        60.89       \n",
              "2 SWE          Sweden  OECD   85.98         98.89        63.07       \n",
              "3 DNK          Denmark OECD   85.68         99.22        71.03       \n",
              "4 DEU          Germany OECD   83.36         99.51        72.37       \n",
              "5 AUT          Austria OECD   82.28         99.45        73.07       \n",
              "6 FRA          France  OECD   82.05         99.73        72.39       \n",
              "  goal_3_score goal_4_score goal_5_score goal_6_score ⋯ goal_8_score\n",
              "1 95.39        97.17        92.11        94.33        ⋯ 86.79       \n",
              "2 96.90        99.76        91.44        95.06        ⋯ 84.97       \n",
              "3 95.40        99.34        87.00        90.73        ⋯ 87.56       \n",
              "4 93.04        97.16        81.92        88.44        ⋯ 86.97       \n",
              "5 92.47        97.91        84.58        92.16        ⋯ 83.27       \n",
              "6 93.22        99.63        87.82        89.27        ⋯ 85.31       \n",
              "  goal_9_score goal_10_score goal_11_score goal_12_score goal_13_score\n",
              "1 96.00        98.47         91.23         60.06         68.79        \n",
              "2 97.59        94.97         90.39         56.83         70.03        \n",
              "3 96.98        98.16         93.04         44.57         60.78        \n",
              "4 95.79        88.15         90.10         55.41         64.00        \n",
              "5 96.98        94.63         92.47         49.62         57.33        \n",
              "6 92.78        87.47         90.53         60.52         73.83        \n",
              "  goal_14_score goal_15_score goal_16_score goal_17_score\n",
              "1 87.93         85.07         92.52         75.60        \n",
              "2 69.35         80.19         88.51         85.77        \n",
              "3 76.30         92.79         93.84         82.15        \n",
              "4 74.00         79.23         89.46         84.39        \n",
              "5    NA         73.58         87.91         71.13        \n",
              "6 65.68         68.82         76.09         73.11        "
            ]
          },
          "metadata": {}
        }
      ]
    },
    {
      "cell_type": "code",
      "source": [
        "summary(df)"
      ],
      "metadata": {
        "colab": {
          "base_uri": "https://localhost:8080/",
          "height": 892
        },
        "id": "FlwE6t4bBzDz",
        "outputId": "1a7eddac-845e-4aae-c76e-1042f978d79d"
      },
      "execution_count": 7,
      "outputs": [
        {
          "output_type": "display_data",
          "data": {
            "text/plain": [
              " country_code         country             region          overall_score  \n",
              " Length:120         Length:120         Length:120         Min.   :62.73  \n",
              " Class :character   Class :character   Class :character   1st Qu.:68.71  \n",
              " Mode  :character   Mode  :character   Mode  :character   Median :72.47  \n",
              "                                                          Mean   :72.87  \n",
              "                                                          3rd Qu.:78.14  \n",
              "                                                          Max.   :86.76  \n",
              "                                                          NA's   :1      \n",
              "  goal_1_score     goal_2_score    goal_3_score    goal_4_score  \n",
              " Min.   : 19.74   Min.   :44.60   Min.   :49.89   Min.   :59.11  \n",
              " 1st Qu.: 90.10   1st Qu.:57.72   1st Qu.:74.30   1st Qu.:81.88  \n",
              " Median : 98.59   Median :63.80   Median :80.58   Median :92.33  \n",
              " Mean   : 92.26   Mean   :63.15   Mean   :80.14   Mean   :88.19  \n",
              " 3rd Qu.: 99.39   3rd Qu.:68.59   3rd Qu.:89.09   3rd Qu.:97.44  \n",
              " Max.   :100.00   Max.   :83.40   Max.   :97.12   Max.   :99.76  \n",
              " NA's   :14       NA's   :1       NA's   :1       NA's   :1      \n",
              "  goal_5_score    goal_6_score    goal_7_score    goal_8_score  \n",
              " Min.   :37.19   Min.   :48.71   Min.   :37.18   Min.   :48.57  \n",
              " 1st Qu.:58.66   1st Qu.:66.26   1st Qu.:65.07   1st Qu.:69.85  \n",
              " Median :69.36   Median :72.36   Median :71.51   Median :75.86  \n",
              " Mean   :68.45   Mean   :72.78   Mean   :71.63   Mean   :75.43  \n",
              " 3rd Qu.:77.96   3rd Qu.:81.20   3rd Qu.:77.20   3rd Qu.:82.21  \n",
              " Max.   :94.02   Max.   :95.06   Max.   :99.55   Max.   :93.38  \n",
              " NA's   :1       NA's   :1       NA's   :1       NA's   :1      \n",
              "  goal_9_score   goal_10_score    goal_11_score   goal_12_score  \n",
              " Min.   :16.08   Min.   :  0.00   Min.   :46.57   Min.   :37.73  \n",
              " 1st Qu.:44.60   1st Qu.: 50.39   1st Qu.:75.03   1st Qu.:62.78  \n",
              " Median :60.35   Median : 78.44   Median :83.35   Median :78.47  \n",
              " Mean   :63.05   Mean   : 68.98   Mean   :80.50   Mean   :74.12  \n",
              " 3rd Qu.:81.31   3rd Qu.: 89.45   3rd Qu.:87.91   3rd Qu.:86.25  \n",
              " Max.   :99.13   Max.   :100.00   Max.   :99.86   Max.   :96.47  \n",
              " NA's   :1       NA's   :16       NA's   :1       NA's   :1      \n",
              " goal_13_score   goal_14_score   goal_15_score   goal_16_score  \n",
              " Min.   : 0.00   Min.   :36.58   Min.   :26.48   Min.   :32.49  \n",
              " 1st Qu.:68.35   1st Qu.:57.20   1st Qu.:56.56   1st Qu.:60.04  \n",
              " Median :84.17   Median :65.17   Median :66.33   Median :66.17  \n",
              " Mean   :76.12   Mean   :65.70   Mean   :67.18   Mean   :67.79  \n",
              " 3rd Qu.:91.92   3rd Qu.:74.29   3rd Qu.:79.37   3rd Qu.:77.96  \n",
              " Max.   :98.51   Max.   :90.39   Max.   :97.85   Max.   :93.84  \n",
              " NA's   :1       NA's   :25      NA's   :1       NA's   :1      \n",
              " goal_17_score  \n",
              " Min.   :30.08  \n",
              " 1st Qu.:58.46  \n",
              " Median :66.08  \n",
              " Mean   :65.44  \n",
              " 3rd Qu.:73.68  \n",
              " Max.   :94.03  \n",
              " NA's   :1      "
            ]
          },
          "metadata": {}
        }
      ]
    },
    {
      "cell_type": "code",
      "source": [
        "na.omit(df) %>% summary()"
      ],
      "metadata": {
        "colab": {
          "base_uri": "https://localhost:8080/",
          "height": 783
        },
        "id": "p8ne7yk7DLkp",
        "outputId": "0163153f-fffd-487d-c3a9-a1e620f3b6f6"
      },
      "execution_count": 8,
      "outputs": [
        {
          "output_type": "display_data",
          "data": {
            "text/plain": [
              " country_code         country             region          overall_score  \n",
              " Length:78          Length:78          Length:78          Min.   :62.73  \n",
              " Class :character   Class :character   Class :character   1st Qu.:69.75  \n",
              " Mode  :character   Mode  :character   Mode  :character   Median :73.53  \n",
              "                                                          Mean   :73.80  \n",
              "                                                          3rd Qu.:78.46  \n",
              "                                                          Max.   :86.76  \n",
              "  goal_1_score     goal_2_score    goal_3_score    goal_4_score  \n",
              " Min.   : 19.74   Min.   :44.60   Min.   :49.89   Min.   :59.11  \n",
              " 1st Qu.: 89.74   1st Qu.:57.05   1st Qu.:75.29   1st Qu.:83.55  \n",
              " Median : 98.59   Median :64.16   Median :80.92   Median :93.94  \n",
              " Mean   : 92.44   Mean   :63.15   Mean   :81.46   Mean   :89.86  \n",
              " 3rd Qu.: 99.39   3rd Qu.:68.65   3rd Qu.:91.84   3rd Qu.:97.95  \n",
              " Max.   :100.00   Max.   :83.40   Max.   :97.12   Max.   :99.76  \n",
              "  goal_5_score    goal_6_score    goal_7_score    goal_8_score  \n",
              " Min.   :38.50   Min.   :48.71   Min.   :38.80   Min.   :48.57  \n",
              " 1st Qu.:59.49   1st Qu.:67.35   1st Qu.:68.36   1st Qu.:69.83  \n",
              " Median :71.73   Median :73.88   Median :72.42   Median :76.87  \n",
              " Mean   :69.38   Mean   :74.30   Mean   :73.19   Mean   :75.87  \n",
              " 3rd Qu.:79.21   3rd Qu.:83.65   3rd Qu.:78.05   3rd Qu.:84.05  \n",
              " Max.   :94.02   Max.   :95.06   Max.   :99.55   Max.   :88.20  \n",
              "  goal_9_score   goal_10_score    goal_11_score   goal_12_score  \n",
              " Min.   :28.43   Min.   :  0.00   Min.   :49.32   Min.   :37.73  \n",
              " 1st Qu.:51.17   1st Qu.: 45.63   1st Qu.:74.87   1st Qu.:61.26  \n",
              " Median :68.19   Median : 72.90   Median :83.48   Median :78.19  \n",
              " Mean   :67.38   Mean   : 65.24   Mean   :80.99   Mean   :73.59  \n",
              " 3rd Qu.:85.68   3rd Qu.: 87.26   3rd Qu.:88.11   3rd Qu.:85.74  \n",
              " Max.   :99.13   Max.   :100.00   Max.   :93.98   Max.   :95.81  \n",
              " goal_13_score    goal_14_score   goal_15_score   goal_16_score  \n",
              " Min.   : 9.833   Min.   :37.54   Min.   :27.41   Min.   :32.49  \n",
              " 1st Qu.:70.259   1st Qu.:59.64   1st Qu.:56.93   1st Qu.:60.21  \n",
              " Median :85.428   Median :65.67   Median :66.83   Median :67.48  \n",
              " Mean   :78.932   Mean   :66.79   Mean   :68.23   Mean   :68.32  \n",
              " 3rd Qu.:92.398   3rd Qu.:74.43   3rd Qu.:80.12   3rd Qu.:79.04  \n",
              " Max.   :98.507   Max.   :90.39   Max.   :97.85   Max.   :93.84  \n",
              " goal_17_score  \n",
              " Min.   :30.08  \n",
              " 1st Qu.:58.96  \n",
              " Median :65.99  \n",
              " Mean   :65.48  \n",
              " 3rd Qu.:74.19  \n",
              " Max.   :94.03  "
            ]
          },
          "metadata": {}
        }
      ]
    },
    {
      "cell_type": "code",
      "source": [
        "# Deixa variáveis com nomes bonitinhos porque temos TOC\n",
        "names(df)<-c(\"Código de país\",\"País\",\"Região\",\"Escore geral\",\"Goal01 - Sem pobreza\",\"Goal02 - Zero fome\",\"Goal03 - Saúde e bem estar\",\"Goal04 - Qualidade da educação\",\"Goal05 - Igualdade de gênero\",\"Goal06 - Água limpa e sanitização\",\"Goal07 - Energia limpa e acessível\",\"Goal08 - Trabalho decente e crescimento econômico\",\"Goal09 - Indústria, Inovação e Infraestrutura\",\"Goal10 - Redução de desigualdades\",\"Goal11 - Cidades e comunidades sustentáveis\",\"Goal12 - Consumo e produção responsáveis\",\"Goal13 - Ações climáticas\",\"Goal14 - Vida subaquática\",\"Goal15 - Vida terrestre\",\"Goal16 - Paz, justiça e instituições fortes\",\"Goal17 - Parcerias pelos objetivos\")\n",
        "names(df)"
      ],
      "metadata": {
        "colab": {
          "base_uri": "https://localhost:8080/",
          "height": 69
        },
        "id": "7noT3O0UAjmK",
        "outputId": "a899500b-d2e4-41f4-872b-1adfaf837959"
      },
      "execution_count": 9,
      "outputs": [
        {
          "output_type": "display_data",
          "data": {
            "text/html": [
              "<style>\n",
              ".list-inline {list-style: none; margin:0; padding: 0}\n",
              ".list-inline>li {display: inline-block}\n",
              ".list-inline>li:not(:last-child)::after {content: \"\\00b7\"; padding: 0 .5ex}\n",
              "</style>\n",
              "<ol class=list-inline><li>'Código de país'</li><li>'País'</li><li>'Região'</li><li>'Escore geral'</li><li>'Goal01 - Sem pobreza'</li><li>'Goal02 - Zero fome'</li><li>'Goal03 - Saúde e bem estar'</li><li>'Goal04 - Qualidade da educação'</li><li>'Goal05 - Igualdade de gênero'</li><li>'Goal06 - Água limpa e sanitização'</li><li>'Goal07 - Energia limpa e acessível'</li><li>'Goal08 - Trabalho decente e crescimento econômico'</li><li>'Goal09 - Indústria, Inovação e Infraestrutura'</li><li>'Goal10 - Redução de desigualdades'</li><li>'Goal11 - Cidades e comunidades sustentáveis'</li><li>'Goal12 - Consumo e produção responsáveis'</li><li>'Goal13 - Ações climáticas'</li><li>'Goal14 - Vida subaquática'</li><li>'Goal15 - Vida terrestre'</li><li>'Goal16 - Paz, justiça e instituições fortes'</li><li>'Goal17 - Parcerias pelos objetivos'</li></ol>\n"
            ],
            "text/markdown": "1. 'Código de país'\n2. 'País'\n3. 'Região'\n4. 'Escore geral'\n5. 'Goal01 - Sem pobreza'\n6. 'Goal02 - Zero fome'\n7. 'Goal03 - Saúde e bem estar'\n8. 'Goal04 - Qualidade da educação'\n9. 'Goal05 - Igualdade de gênero'\n10. 'Goal06 - Água limpa e sanitização'\n11. 'Goal07 - Energia limpa e acessível'\n12. 'Goal08 - Trabalho decente e crescimento econômico'\n13. 'Goal09 - Indústria, Inovação e Infraestrutura'\n14. 'Goal10 - Redução de desigualdades'\n15. 'Goal11 - Cidades e comunidades sustentáveis'\n16. 'Goal12 - Consumo e produção responsáveis'\n17. 'Goal13 - Ações climáticas'\n18. 'Goal14 - Vida subaquática'\n19. 'Goal15 - Vida terrestre'\n20. 'Goal16 - Paz, justiça e instituições fortes'\n21. 'Goal17 - Parcerias pelos objetivos'\n\n\n",
            "text/latex": "\\begin{enumerate*}\n\\item 'Código de país'\n\\item 'País'\n\\item 'Região'\n\\item 'Escore geral'\n\\item 'Goal01 - Sem pobreza'\n\\item 'Goal02 - Zero fome'\n\\item 'Goal03 - Saúde e bem estar'\n\\item 'Goal04 - Qualidade da educação'\n\\item 'Goal05 - Igualdade de gênero'\n\\item 'Goal06 - Água limpa e sanitização'\n\\item 'Goal07 - Energia limpa e acessível'\n\\item 'Goal08 - Trabalho decente e crescimento econômico'\n\\item 'Goal09 - Indústria, Inovação e Infraestrutura'\n\\item 'Goal10 - Redução de desigualdades'\n\\item 'Goal11 - Cidades e comunidades sustentáveis'\n\\item 'Goal12 - Consumo e produção responsáveis'\n\\item 'Goal13 - Ações climáticas'\n\\item 'Goal14 - Vida subaquática'\n\\item 'Goal15 - Vida terrestre'\n\\item 'Goal16 - Paz, justiça e instituições fortes'\n\\item 'Goal17 - Parcerias pelos objetivos'\n\\end{enumerate*}\n",
            "text/plain": [
              " [1] \"Código de país\"                                   \n",
              " [2] \"País\"                                             \n",
              " [3] \"Região\"                                           \n",
              " [4] \"Escore geral\"                                     \n",
              " [5] \"Goal01 - Sem pobreza\"                             \n",
              " [6] \"Goal02 - Zero fome\"                               \n",
              " [7] \"Goal03 - Saúde e bem estar\"                       \n",
              " [8] \"Goal04 - Qualidade da educação\"                   \n",
              " [9] \"Goal05 - Igualdade de gênero\"                     \n",
              "[10] \"Goal06 - Água limpa e sanitização\"                \n",
              "[11] \"Goal07 - Energia limpa e acessível\"               \n",
              "[12] \"Goal08 - Trabalho decente e crescimento econômico\"\n",
              "[13] \"Goal09 - Indústria, Inovação e Infraestrutura\"    \n",
              "[14] \"Goal10 - Redução de desigualdades\"                \n",
              "[15] \"Goal11 - Cidades e comunidades sustentáveis\"      \n",
              "[16] \"Goal12 - Consumo e produção responsáveis\"         \n",
              "[17] \"Goal13 - Ações climáticas\"                        \n",
              "[18] \"Goal14 - Vida subaquática\"                        \n",
              "[19] \"Goal15 - Vida terrestre\"                          \n",
              "[20] \"Goal16 - Paz, justiça e instituições fortes\"      \n",
              "[21] \"Goal17 - Parcerias pelos objetivos\"               "
            ]
          },
          "metadata": {}
        }
      ]
    },
    {
      "cell_type": "code",
      "source": [
        "melt_df <- melt(df, id = c(\"Código de país\",\"País\",\"Região\"))\n",
        "melt_df<-na.omit(melt_df)\n",
        "head(melt_df)\n",
        "\n",
        "melt_df$variable <- factor(melt_df$variable, levels=c(\"Escore geral\",\"Goal01 - Sem pobreza\",\"Goal02 - Zero fome\",\"Goal03 - Saúde e bem estar\",\"Goal04 - Qualidade da educação\",\"Goal05 - Igualdade de gênero\",\"Goal06 - Água limpa e sanitização\",\"Goal07 - Energia limpa e acessível\",\"Goal08 - Trabalho decente e crescimento econômico\",\"Goal09 - Indústria, Inovação e Infraestrutura\",\"Goal10 - Redução de desigualdades\",\"Goal11 - Cidades e comunidades sustentáveis\",\"Goal12 - Consumo e produção responsáveis\",\"Goal13 - Ações climáticas\",\"Goal14 - Vida subaquática\",\"Goal15 - Vida terrestre\",\"Goal16 - Paz, justiça e instituições fortes\",\"Goal17 - Parcerias pelos objetivos\"))"
      ],
      "metadata": {
        "colab": {
          "base_uri": "https://localhost:8080/",
          "height": 286
        },
        "id": "lJlslWbgMwq2",
        "outputId": "ae146fa2-47ec-4456-95d5-7f4ad9511d9c"
      },
      "execution_count": 22,
      "outputs": [
        {
          "output_type": "display_data",
          "data": {
            "text/html": [
              "<table class=\"dataframe\">\n",
              "<caption>A data.frame: 6 × 5</caption>\n",
              "<thead>\n",
              "\t<tr><th></th><th scope=col>Código de país</th><th scope=col>País</th><th scope=col>Região</th><th scope=col>variable</th><th scope=col>value</th></tr>\n",
              "\t<tr><th></th><th scope=col>&lt;chr&gt;</th><th scope=col>&lt;chr&gt;</th><th scope=col>&lt;chr&gt;</th><th scope=col>&lt;fct&gt;</th><th scope=col>&lt;dbl&gt;</th></tr>\n",
              "</thead>\n",
              "<tbody>\n",
              "\t<tr><th scope=row>1</th><td>FIN</td><td>Finland</td><td>OECD</td><td>Escore geral</td><td>86.76059</td></tr>\n",
              "\t<tr><th scope=row>2</th><td>SWE</td><td>Sweden </td><td>OECD</td><td>Escore geral</td><td>85.98140</td></tr>\n",
              "\t<tr><th scope=row>3</th><td>DNK</td><td>Denmark</td><td>OECD</td><td>Escore geral</td><td>85.68364</td></tr>\n",
              "\t<tr><th scope=row>4</th><td>DEU</td><td>Germany</td><td>OECD</td><td>Escore geral</td><td>83.35845</td></tr>\n",
              "\t<tr><th scope=row>5</th><td>AUT</td><td>Austria</td><td>OECD</td><td>Escore geral</td><td>82.28019</td></tr>\n",
              "\t<tr><th scope=row>6</th><td>FRA</td><td>France </td><td>OECD</td><td>Escore geral</td><td>82.04834</td></tr>\n",
              "</tbody>\n",
              "</table>\n"
            ],
            "text/markdown": "\nA data.frame: 6 × 5\n\n| <!--/--> | Código de país &lt;chr&gt; | País &lt;chr&gt; | Região &lt;chr&gt; | variable &lt;fct&gt; | value &lt;dbl&gt; |\n|---|---|---|---|---|---|\n| 1 | FIN | Finland | OECD | Escore geral | 86.76059 |\n| 2 | SWE | Sweden  | OECD | Escore geral | 85.98140 |\n| 3 | DNK | Denmark | OECD | Escore geral | 85.68364 |\n| 4 | DEU | Germany | OECD | Escore geral | 83.35845 |\n| 5 | AUT | Austria | OECD | Escore geral | 82.28019 |\n| 6 | FRA | France  | OECD | Escore geral | 82.04834 |\n\n",
            "text/latex": "A data.frame: 6 × 5\n\\begin{tabular}{r|lllll}\n  & Código de país & País & Região & variable & value\\\\\n  & <chr> & <chr> & <chr> & <fct> & <dbl>\\\\\n\\hline\n\t1 & FIN & Finland & OECD & Escore geral & 86.76059\\\\\n\t2 & SWE & Sweden  & OECD & Escore geral & 85.98140\\\\\n\t3 & DNK & Denmark & OECD & Escore geral & 85.68364\\\\\n\t4 & DEU & Germany & OECD & Escore geral & 83.35845\\\\\n\t5 & AUT & Austria & OECD & Escore geral & 82.28019\\\\\n\t6 & FRA & France  & OECD & Escore geral & 82.04834\\\\\n\\end{tabular}\n",
            "text/plain": [
              "  Código de país País    Região variable     value   \n",
              "1 FIN            Finland OECD   Escore geral 86.76059\n",
              "2 SWE            Sweden  OECD   Escore geral 85.98140\n",
              "3 DNK            Denmark OECD   Escore geral 85.68364\n",
              "4 DEU            Germany OECD   Escore geral 83.35845\n",
              "5 AUT            Austria OECD   Escore geral 82.28019\n",
              "6 FRA            France  OECD   Escore geral 82.04834"
            ]
          },
          "metadata": {}
        }
      ]
    },
    {
      "cell_type": "code",
      "source": [
        "# Mostra o boxplot de todas as variáveis\n",
        "\n",
        "pdf(\"boxplot.pdf\", width = 13, height = 9)\n",
        "showtext_auto()\n",
        "ggplot(melt_df, aes(x = variable, y = value)) +  # ggplot function\n",
        "    geom_boxplot() +  coord_flip() + theme(plot.title = element_text(size=12),text=element_text(family=\"merri\"))\n",
        "dev.off()\n",
        "ggplot(melt_df, aes(x = variable, y = value)) +  # ggplot function\n",
        "    geom_boxplot() +  coord_flip() + theme(plot.title = element_text(size=12),text=element_text(family=\"merri\"))"
      ],
      "metadata": {
        "colab": {
          "base_uri": "https://localhost:8080/",
          "height": 454
        },
        "id": "SjPHLa6pMeh1",
        "outputId": "0823ce55-68aa-4e68-8745-9f84002fe486"
      },
      "execution_count": 28,
      "outputs": [
        {
          "output_type": "display_data",
          "data": {
            "text/html": [
              "<strong>png:</strong> 2"
            ],
            "text/markdown": "**png:** 2",
            "text/latex": "\\textbf{png:} 2",
            "text/plain": [
              "png \n",
              "  2 "
            ]
          },
          "metadata": {}
        },
        {
          "output_type": "display_data",
          "data": {
            "text/plain": [
              "plot without title"
            ],
            "image/png": "[encoded data removed]"
          },
          "metadata": {
            "image/png": {
              "width": 420,
              "height": 420
            }
          }
        }
      ]
    },
    {
      "cell_type": "code",
      "source": [
        "# Calcula ainda a média e desvio-padrão\n",
        "melt_df %>% group_by(variable) %>%  summarise_at(vars(starts_with(\"val\")), list(mean=mean, sd=sd))"
      ],
      "metadata": {
        "colab": {
          "base_uri": "https://localhost:8080/",
          "height": 662
        },
        "id": "ijO-Xx8_fSA9",
        "outputId": "5036adaf-7dc3-4d2b-9e8f-7c8ffc1f03ff"
      },
      "execution_count": 24,
      "outputs": [
        {
          "output_type": "display_data",
          "data": {
            "text/html": [
              "<table class=\"dataframe\">\n",
              "<caption>A tibble: 18 × 3</caption>\n",
              "<thead>\n",
              "\t<tr><th scope=col>variable</th><th scope=col>mean</th><th scope=col>sd</th></tr>\n",
              "\t<tr><th scope=col>&lt;fct&gt;</th><th scope=col>&lt;dbl&gt;</th><th scope=col>&lt;dbl&gt;</th></tr>\n",
              "</thead>\n",
              "<tbody>\n",
              "\t<tr><td>Escore geral                                     </td><td>72.86714</td><td> 6.053513</td></tr>\n",
              "\t<tr><td>Goal01 - Sem pobreza                             </td><td>92.25624</td><td>13.190414</td></tr>\n",
              "\t<tr><td>Goal02 - Zero fome                               </td><td>63.14537</td><td> 7.714222</td></tr>\n",
              "\t<tr><td>Goal03 - Saúde e bem estar                       </td><td>80.13530</td><td>11.483440</td></tr>\n",
              "\t<tr><td>Goal04 - Qualidade da educação                   </td><td>88.18568</td><td>11.232696</td></tr>\n",
              "\t<tr><td>Goal05 - Igualdade de gênero                     </td><td>68.44511</td><td>13.743269</td></tr>\n",
              "\t<tr><td>Goal06 - Água limpa e sanitização                </td><td>72.78071</td><td>11.063456</td></tr>\n",
              "\t<tr><td>Goal07 - Energia limpa e acessível               </td><td>71.62729</td><td>10.980987</td></tr>\n",
              "\t<tr><td>Goal08 - Trabalho decente e crescimento econômico</td><td>75.42835</td><td> 8.672081</td></tr>\n",
              "\t<tr><td>Goal09 - Indústria, Inovação e Infraestrutura    </td><td>63.05244</td><td>21.578170</td></tr>\n",
              "\t<tr><td>Goal10 - Redução de desigualdades                </td><td>68.97862</td><td>26.698383</td></tr>\n",
              "\t<tr><td>Goal11 - Cidades e comunidades sustentáveis      </td><td>80.50157</td><td>10.875448</td></tr>\n",
              "\t<tr><td>Goal12 - Consumo e produção responsáveis         </td><td>74.11936</td><td>15.189192</td></tr>\n",
              "\t<tr><td>Goal13 - Ações climáticas                        </td><td>76.11720</td><td>22.141583</td></tr>\n",
              "\t<tr><td>Goal14 - Vida subaquática                        </td><td>65.70368</td><td>11.845581</td></tr>\n",
              "\t<tr><td>Goal15 - Vida terrestre                          </td><td>67.18477</td><td>14.870122</td></tr>\n",
              "\t<tr><td>Goal16 - Paz, justiça e instituições fortes      </td><td>67.79403</td><td>13.191746</td></tr>\n",
              "\t<tr><td>Goal17 - Parcerias pelos objetivos               </td><td>65.44305</td><td>11.839055</td></tr>\n",
              "</tbody>\n",
              "</table>\n"
            ],
            "text/markdown": "\nA tibble: 18 × 3\n\n| variable &lt;fct&gt; | mean &lt;dbl&gt; | sd &lt;dbl&gt; |\n|---|---|---|\n| Escore geral                                      | 72.86714 |  6.053513 |\n| Goal01 - Sem pobreza                              | 92.25624 | 13.190414 |\n| Goal02 - Zero fome                                | 63.14537 |  7.714222 |\n| Goal03 - Saúde e bem estar                        | 80.13530 | 11.483440 |\n| Goal04 - Qualidade da educação                    | 88.18568 | 11.232696 |\n| Goal05 - Igualdade de gênero                      | 68.44511 | 13.743269 |\n| Goal06 - Água limpa e sanitização                 | 72.78071 | 11.063456 |\n| Goal07 - Energia limpa e acessível                | 71.62729 | 10.980987 |\n| Goal08 - Trabalho decente e crescimento econômico | 75.42835 |  8.672081 |\n| Goal09 - Indústria, Inovação e Infraestrutura     | 63.05244 | 21.578170 |\n| Goal10 - Redução de desigualdades                 | 68.97862 | 26.698383 |\n| Goal11 - Cidades e comunidades sustentáveis       | 80.50157 | 10.875448 |\n| Goal12 - Consumo e produção responsáveis          | 74.11936 | 15.189192 |\n| Goal13 - Ações climáticas                         | 76.11720 | 22.141583 |\n| Goal14 - Vida subaquática                         | 65.70368 | 11.845581 |\n| Goal15 - Vida terrestre                           | 67.18477 | 14.870122 |\n| Goal16 - Paz, justiça e instituições fortes       | 67.79403 | 13.191746 |\n| Goal17 - Parcerias pelos objetivos                | 65.44305 | 11.839055 |\n\n",
            "text/latex": "A tibble: 18 × 3\n\\begin{tabular}{lll}\n variable & mean & sd\\\\\n <fct> & <dbl> & <dbl>\\\\\n\\hline\n\t Escore geral                                      & 72.86714 &  6.053513\\\\\n\t Goal01 - Sem pobreza                              & 92.25624 & 13.190414\\\\\n\t Goal02 - Zero fome                                & 63.14537 &  7.714222\\\\\n\t Goal03 - Saúde e bem estar                        & 80.13530 & 11.483440\\\\\n\t Goal04 - Qualidade da educação                    & 88.18568 & 11.232696\\\\\n\t Goal05 - Igualdade de gênero                      & 68.44511 & 13.743269\\\\\n\t Goal06 - Água limpa e sanitização                 & 72.78071 & 11.063456\\\\\n\t Goal07 - Energia limpa e acessível                & 71.62729 & 10.980987\\\\\n\t Goal08 - Trabalho decente e crescimento econômico & 75.42835 &  8.672081\\\\\n\t Goal09 - Indústria, Inovação e Infraestrutura     & 63.05244 & 21.578170\\\\\n\t Goal10 - Redução de desigualdades                 & 68.97862 & 26.698383\\\\\n\t Goal11 - Cidades e comunidades sustentáveis       & 80.50157 & 10.875448\\\\\n\t Goal12 - Consumo e produção responsáveis          & 74.11936 & 15.189192\\\\\n\t Goal13 - Ações climáticas                         & 76.11720 & 22.141583\\\\\n\t Goal14 - Vida subaquática                         & 65.70368 & 11.845581\\\\\n\t Goal15 - Vida terrestre                           & 67.18477 & 14.870122\\\\\n\t Goal16 - Paz, justiça e instituições fortes       & 67.79403 & 13.191746\\\\\n\t Goal17 - Parcerias pelos objetivos                & 65.44305 & 11.839055\\\\\n\\end{tabular}\n",
            "text/plain": [
              "   variable                                          mean     sd       \n",
              "1  Escore geral                                      72.86714  6.053513\n",
              "2  Goal01 - Sem pobreza                              92.25624 13.190414\n",
              "3  Goal02 - Zero fome                                63.14537  7.714222\n",
              "4  Goal03 - Saúde e bem estar                        80.13530 11.483440\n",
              "5  Goal04 - Qualidade da educação                    88.18568 11.232696\n",
              "6  Goal05 - Igualdade de gênero                      68.44511 13.743269\n",
              "7  Goal06 - Água limpa e sanitização                 72.78071 11.063456\n",
              "8  Goal07 - Energia limpa e acessível                71.62729 10.980987\n",
              "9  Goal08 - Trabalho decente e crescimento econômico 75.42835  8.672081\n",
              "10 Goal09 - Indústria, Inovação e Infraestrutura     63.05244 21.578170\n",
              "11 Goal10 - Redução de desigualdades                 68.97862 26.698383\n",
              "12 Goal11 - Cidades e comunidades sustentáveis       80.50157 10.875448\n",
              "13 Goal12 - Consumo e produção responsáveis          74.11936 15.189192\n",
              "14 Goal13 - Ações climáticas                         76.11720 22.141583\n",
              "15 Goal14 - Vida subaquática                         65.70368 11.845581\n",
              "16 Goal15 - Vida terrestre                           67.18477 14.870122\n",
              "17 Goal16 - Paz, justiça e instituições fortes       67.79403 13.191746\n",
              "18 Goal17 - Parcerias pelos objetivos                65.44305 11.839055"
            ]
          },
          "metadata": {}
        }
      ]
    }
  ]
}