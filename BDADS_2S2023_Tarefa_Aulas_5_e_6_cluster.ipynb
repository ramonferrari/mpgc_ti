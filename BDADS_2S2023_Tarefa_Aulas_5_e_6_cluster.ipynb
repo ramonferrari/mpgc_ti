{
  "nbformat": 4,
  "nbformat_minor": 0,
  "metadata": {
    "colab": {
      "provenance": [],
      "authorship_tag": "ABX9TyMVi5uSw57+ICD+mDYmGxxA",
      "include_colab_link": true
    },
    "kernelspec": {
      "name": "ir",
      "display_name": "R"
    },
    "language_info": {
      "name": "R"
    }
  },
  "cells": [
    {
      "cell_type": "markdown",
      "metadata": {
        "id": "view-in-github",
        "colab_type": "text"
      },
      "source": [
        "<a href=\"https://colab.research.google.com/github/ramonferrari/mpgc_ti/blob/main/BDADS_2S2023_Tarefa_Aulas_5_e_6_cluster.ipynb\" target=\"_parent\"><img src=\"https://colab.research.google.com/assets/colab-badge.svg\" alt=\"Open In Colab\"/></a>"
      ]
    },
    {
      "cell_type": "markdown",
      "source": [
        "# Tarefa Aulas 5 e 6\n",
        "# Exploração de Cluster Analysis\n",
        "#### Grupo:\n",
        "1.   Antonio Angelo dos Santos\n",
        "2. Gabriel Menegon Cardozo\n",
        "3. Gustavo Salomão\n",
        "4. Lucas Felipe Ballesteros Martins\n",
        "5. Ramon Moreno Ferrari\n",
        "6. Valter Bellei\n",
        "\n"
      ],
      "metadata": {
        "id": "qmkpCSpsmjRu"
      }
    },
    {
      "cell_type": "markdown",
      "source": [
        "### Preparação: instala e carrega pacotes necessários"
      ],
      "metadata": {
        "id": "ooZpMKY1pi7w"
      }
    },
    {
      "cell_type": "code",
      "source": [
        "install.packages(\"ggplot2\")\n",
        "install.packages(\"ggdendro\")\n",
        "install.packages(\"stringr\")"
      ],
      "metadata": {
        "colab": {
          "base_uri": "https://localhost:8080/"
        },
        "id": "kbRrrZbXmamA",
        "outputId": "a7a0a837-57f5-4de5-b541-18e3df124408"
      },
      "execution_count": 9,
      "outputs": [
        {
          "output_type": "stream",
          "name": "stderr",
          "text": [
            "Installing package into ‘/usr/local/lib/R/site-library’\n",
            "(as ‘lib’ is unspecified)\n",
            "\n",
            "Installing package into ‘/usr/local/lib/R/site-library’\n",
            "(as ‘lib’ is unspecified)\n",
            "\n",
            "Installing package into ‘/usr/local/lib/R/site-library’\n",
            "(as ‘lib’ is unspecified)\n",
            "\n"
          ]
        }
      ]
    },
    {
      "cell_type": "code",
      "execution_count": 10,
      "metadata": {
        "id": "ia12iH6fj5LX"
      },
      "outputs": [],
      "source": [
        "suppressWarnings(suppressMessages(library(ggplot2)))\n",
        "suppressWarnings(suppressMessages(library(ggdendro)))\n",
        "suppressWarnings(suppressMessages(library(stringr)))"
      ]
    },
    {
      "cell_type": "markdown",
      "source": [
        "## Exploração de Cluster Analysis"
      ],
      "metadata": {
        "id": "izGuw13l_QlP"
      }
    },
    {
      "cell_type": "code",
      "source": [
        "# Endereço do arquivo na nuvem, para funcionar para todos os colegas, em qualquer computador\n",
        "url_dataset <- c(\"https://raw.githubusercontent.com/ramonferrari/mpgc_ti/main/Sanduiches.csv\")"
      ],
      "metadata": {
        "id": "TtZSoFN9_WH8"
      },
      "execution_count": 11,
      "outputs": []
    },
    {
      "cell_type": "code",
      "source": [
        "# Leitura dos dados\n",
        "sanduiches <- read.table(url_dataset,header=TRUE,sep = \",\")\n",
        "\n",
        "# Deixa variáveis com nomes bonitinhos porque temos TOC\n",
        "names(sanduiches) <- sub(\"\\\\.\", \" \", names(sanduiches))\n",
        "sanduiches$`Sanduíches` <- str_to_title(sanduiches$`Sanduíches`)\n",
        "names(sanduiches)\n",
        "\n",
        "# Dataset lido corretamente?\n",
        "head(sanduiches)"
      ],
      "metadata": {
        "colab": {
          "base_uri": "https://localhost:8080/",
          "height": 338
        },
        "id": "7noT3O0UAjmK",
        "outputId": "2f11f738-30a8-407e-d90e-86d7e016b711"
      },
      "execution_count": 16,
      "outputs": [
        {
          "output_type": "display_data",
          "data": {
            "text/html": [
              "<style>\n",
              ".list-inline {list-style: none; margin:0; padding: 0}\n",
              ".list-inline>li {display: inline-block}\n",
              ".list-inline>li:not(:last-child)::after {content: \"\\00b7\"; padding: 0 .5ex}\n",
              "</style>\n",
              "<ol class=list-inline><li>'Sanduíches'</li><li>'Valor Energético'</li><li>'Carboidratos'</li><li>'Proteínas'</li><li>'Gordura Total'</li><li>'Gordura Saturada'</li><li>'Gordura Trans'</li><li>'Colesterol'</li><li>'Fibra Alimentar'</li><li>'Sódio'</li><li>'Cálcio'</li><li>'Ferro'</li></ol>\n"
            ],
            "text/markdown": "1. 'Sanduíches'\n2. 'Valor Energético'\n3. 'Carboidratos'\n4. 'Proteínas'\n5. 'Gordura Total'\n6. 'Gordura Saturada'\n7. 'Gordura Trans'\n8. 'Colesterol'\n9. 'Fibra Alimentar'\n10. 'Sódio'\n11. 'Cálcio'\n12. 'Ferro'\n\n\n",
            "text/latex": "\\begin{enumerate*}\n\\item 'Sanduíches'\n\\item 'Valor Energético'\n\\item 'Carboidratos'\n\\item 'Proteínas'\n\\item 'Gordura Total'\n\\item 'Gordura Saturada'\n\\item 'Gordura Trans'\n\\item 'Colesterol'\n\\item 'Fibra Alimentar'\n\\item 'Sódio'\n\\item 'Cálcio'\n\\item 'Ferro'\n\\end{enumerate*}\n",
            "text/plain": [
              " [1] \"Sanduíches\"       \"Valor Energético\" \"Carboidratos\"     \"Proteínas\"       \n",
              " [5] \"Gordura Total\"    \"Gordura Saturada\" \"Gordura Trans\"    \"Colesterol\"      \n",
              " [9] \"Fibra Alimentar\"  \"Sódio\"            \"Cálcio\"           \"Ferro\"           "
            ]
          },
          "metadata": {}
        },
        {
          "output_type": "display_data",
          "data": {
            "text/html": [
              "<table class=\"dataframe\">\n",
              "<caption>A data.frame: 6 × 12</caption>\n",
              "<thead>\n",
              "\t<tr><th></th><th scope=col>Sanduíches</th><th scope=col>Valor Energético</th><th scope=col>Carboidratos</th><th scope=col>Proteínas</th><th scope=col>Gordura Total</th><th scope=col>Gordura Saturada</th><th scope=col>Gordura Trans</th><th scope=col>Colesterol</th><th scope=col>Fibra Alimentar</th><th scope=col>Sódio</th><th scope=col>Cálcio</th><th scope=col>Ferro</th></tr>\n",
              "\t<tr><th></th><th scope=col>&lt;chr&gt;</th><th scope=col>&lt;int&gt;</th><th scope=col>&lt;int&gt;</th><th scope=col>&lt;int&gt;</th><th scope=col>&lt;dbl&gt;</th><th scope=col>&lt;dbl&gt;</th><th scope=col>&lt;dbl&gt;</th><th scope=col>&lt;dbl&gt;</th><th scope=col>&lt;dbl&gt;</th><th scope=col>&lt;int&gt;</th><th scope=col>&lt;int&gt;</th><th scope=col>&lt;dbl&gt;</th></tr>\n",
              "</thead>\n",
              "<tbody>\n",
              "\t<tr><th scope=row>1</th><td>Big Mac       </td><td>476</td><td>41</td><td>25</td><td>24</td><td> 9.3</td><td>0.5</td><td> 64</td><td>2.7</td><td> 898</td><td>176</td><td>5.4</td></tr>\n",
              "\t<tr><th scope=row>2</th><td>Big Tasty     </td><td>841</td><td>43</td><td>42</td><td>55</td><td>23.0</td><td>1.9</td><td>109</td><td>3.1</td><td>1454</td><td>335</td><td>7.4</td></tr>\n",
              "\t<tr><th scope=row>3</th><td>Quarterão     </td><td>539</td><td>35</td><td>31</td><td>31</td><td>15.0</td><td>1.5</td><td> 88</td><td>2.7</td><td> 979</td><td>238</td><td>5.5</td></tr>\n",
              "\t<tr><th scope=row>4</th><td>Mcnífico Bacon</td><td>563</td><td>37</td><td>32</td><td>32</td><td>13.0</td><td>1.3</td><td> 86</td><td>2.3</td><td> 929</td><td>166</td><td>5.8</td></tr>\n",
              "\t<tr><th scope=row>5</th><td>Cheddar Mcmelt</td><td>484</td><td>30</td><td>29</td><td>27</td><td>13.0</td><td>1.2</td><td> 80</td><td>2.3</td><td> 844</td><td>150</td><td>5.2</td></tr>\n",
              "\t<tr><th scope=row>6</th><td>Mcfish        </td><td>363</td><td>37</td><td>17</td><td>16</td><td> 4.6</td><td>0.4</td><td> 40</td><td>2.5</td><td> 534</td><td>149</td><td>3.9</td></tr>\n",
              "</tbody>\n",
              "</table>\n"
            ],
            "text/markdown": "\nA data.frame: 6 × 12\n\n| <!--/--> | Sanduíches &lt;chr&gt; | Valor Energético &lt;int&gt; | Carboidratos &lt;int&gt; | Proteínas &lt;int&gt; | Gordura Total &lt;dbl&gt; | Gordura Saturada &lt;dbl&gt; | Gordura Trans &lt;dbl&gt; | Colesterol &lt;dbl&gt; | Fibra Alimentar &lt;dbl&gt; | Sódio &lt;int&gt; | Cálcio &lt;int&gt; | Ferro &lt;dbl&gt; |\n|---|---|---|---|---|---|---|---|---|---|---|---|---|\n| 1 | Big Mac        | 476 | 41 | 25 | 24 |  9.3 | 0.5 |  64 | 2.7 |  898 | 176 | 5.4 |\n| 2 | Big Tasty      | 841 | 43 | 42 | 55 | 23.0 | 1.9 | 109 | 3.1 | 1454 | 335 | 7.4 |\n| 3 | Quarterão      | 539 | 35 | 31 | 31 | 15.0 | 1.5 |  88 | 2.7 |  979 | 238 | 5.5 |\n| 4 | Mcnífico Bacon | 563 | 37 | 32 | 32 | 13.0 | 1.3 |  86 | 2.3 |  929 | 166 | 5.8 |\n| 5 | Cheddar Mcmelt | 484 | 30 | 29 | 27 | 13.0 | 1.2 |  80 | 2.3 |  844 | 150 | 5.2 |\n| 6 | Mcfish         | 363 | 37 | 17 | 16 |  4.6 | 0.4 |  40 | 2.5 |  534 | 149 | 3.9 |\n\n",
            "text/latex": "A data.frame: 6 × 12\n\\begin{tabular}{r|llllllllllll}\n  & Sanduíches & Valor Energético & Carboidratos & Proteínas & Gordura Total & Gordura Saturada & Gordura Trans & Colesterol & Fibra Alimentar & Sódio & Cálcio & Ferro\\\\\n  & <chr> & <int> & <int> & <int> & <dbl> & <dbl> & <dbl> & <dbl> & <dbl> & <int> & <int> & <dbl>\\\\\n\\hline\n\t1 & Big Mac        & 476 & 41 & 25 & 24 &  9.3 & 0.5 &  64 & 2.7 &  898 & 176 & 5.4\\\\\n\t2 & Big Tasty      & 841 & 43 & 42 & 55 & 23.0 & 1.9 & 109 & 3.1 & 1454 & 335 & 7.4\\\\\n\t3 & Quarterão      & 539 & 35 & 31 & 31 & 15.0 & 1.5 &  88 & 2.7 &  979 & 238 & 5.5\\\\\n\t4 & Mcnífico Bacon & 563 & 37 & 32 & 32 & 13.0 & 1.3 &  86 & 2.3 &  929 & 166 & 5.8\\\\\n\t5 & Cheddar Mcmelt & 484 & 30 & 29 & 27 & 13.0 & 1.2 &  80 & 2.3 &  844 & 150 & 5.2\\\\\n\t6 & Mcfish         & 363 & 37 & 17 & 16 &  4.6 & 0.4 &  40 & 2.5 &  534 & 149 & 3.9\\\\\n\\end{tabular}\n",
            "text/plain": [
              "  Sanduíches     Valor Energético Carboidratos Proteínas Gordura Total\n",
              "1 Big Mac        476              41           25        24           \n",
              "2 Big Tasty      841              43           42        55           \n",
              "3 Quarterão      539              35           31        31           \n",
              "4 Mcnífico Bacon 563              37           32        32           \n",
              "5 Cheddar Mcmelt 484              30           29        27           \n",
              "6 Mcfish         363              37           17        16           \n",
              "  Gordura Saturada Gordura Trans Colesterol Fibra Alimentar Sódio Cálcio Ferro\n",
              "1  9.3             0.5            64        2.7              898  176    5.4  \n",
              "2 23.0             1.9           109        3.1             1454  335    7.4  \n",
              "3 15.0             1.5            88        2.7              979  238    5.5  \n",
              "4 13.0             1.3            86        2.3              929  166    5.8  \n",
              "5 13.0             1.2            80        2.3              844  150    5.2  \n",
              "6  4.6             0.4            40        2.5              534  149    3.9  "
            ]
          },
          "metadata": {}
        }
      ]
    },
    {
      "cell_type": "code",
      "source": [
        "hc <- hclust(dist(sanduiches), \"average\")"
      ],
      "metadata": {
        "colab": {
          "base_uri": "https://localhost:8080/"
        },
        "id": "ECBWBAdiB5Et",
        "outputId": "7b4e280c-f5bf-47e5-99cd-cf403ed4eccd"
      },
      "execution_count": 17,
      "outputs": [
        {
          "output_type": "stream",
          "name": "stderr",
          "text": [
            "Warning message in dist(sanduiches):\n",
            "“NAs introduced by coercion”\n"
          ]
        }
      ]
    }
  ]
}